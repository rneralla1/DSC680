{
 "cells": [
  {
   "cell_type": "markdown",
   "id": "brilliant-abuse",
   "metadata": {},
   "source": [
    "Assignment 3\n"
   ]
  },
  {
   "cell_type": "markdown",
   "id": "prostate-summer",
   "metadata": {},
   "source": [
    "Import libraries and define common helper functions"
   ]
  },
  {
   "cell_type": "code",
   "execution_count": 1,
   "id": "wicked-declaration",
   "metadata": {},
   "outputs": [],
   "source": [
    "import os\n",
    "import sys\n",
    "import gzip\n",
    "import json\n",
    "from pathlib import Path\n",
    "import csv\n",
    "\n",
    "import pandas as pd\n",
    "import s3fs\n",
    "import pyarrow as pa\n",
    "from pyarrow.json import read_json\n",
    "import pyarrow.parquet as pq\n",
    "import fastavro\n",
    "import pygeohash\n",
    "import snappy\n",
    "import jsonschema\n",
    "from jsonschema.exceptions import ValidationError"
   ]
  },
  {
   "cell_type": "code",
   "execution_count": 8,
   "id": "durable-rubber",
   "metadata": {},
   "outputs": [],
   "source": [
    "endpoint_url='https://storage.budsc.midwest-datascience.com'\n",
    "\n",
    "current_dir = Path(os.getcwd()).absolute()\n",
    "schema_dir = current_dir.joinpath('schemas')\n",
    "results_dir = current_dir.joinpath('results')\n",
    "results_dir.mkdir(parents=True, exist_ok=True)"
   ]
  },
  {
   "cell_type": "code",
   "execution_count": 9,
   "id": "hispanic-bottom",
   "metadata": {},
   "outputs": [],
   "source": [
    "def read_jsonl_data():\n",
    "    s3 = s3fs.S3FileSystem(\n",
    "        anon=True,\n",
    "        client_kwargs={\n",
    "            'endpoint_url': endpoint_url\n",
    "        }\n",
    "    )\n",
    "    src_data_path = 'data/processed/openflights/routes.jsonl.gz'\n",
    "    with s3.open(src_data_path, 'rb') as f_gz:\n",
    "        with gzip.open(f_gz, 'rb') as f:\n",
    "            records = [json.loads(line) for line in f.readlines()]\n",
    "        \n",
    "\n",
    "    return records"
   ]
  },
  {
   "cell_type": "markdown",
   "id": "limiting-petroleum",
   "metadata": {},
   "source": [
    "Load the records from https://storage.budsc.midwest-datascience.com/data/processed/openflights/routes.jsonl.gz"
   ]
  },
  {
   "cell_type": "code",
   "execution_count": 10,
   "id": "sealed-corruption",
   "metadata": {},
   "outputs": [],
   "source": [
    "records = read_jsonl_data()\n"
   ]
  },
  {
   "cell_type": "markdown",
   "id": "undefined-motion",
   "metadata": {},
   "source": [
    "3.1"
   ]
  },
  {
   "cell_type": "raw",
   "id": "opposed-opening",
   "metadata": {},
   "source": [
    "3.1.a JSON Schema"
   ]
  },
  {
   "cell_type": "code",
   "execution_count": 11,
   "id": "present-completion",
   "metadata": {},
   "outputs": [],
   "source": [
    "def validate_jsonl_data(records):\n",
    "    schema_path = schema_dir.joinpath('routes-schema.json')\n",
    "    validation_csv_path = results_dir.joinpath('validation-results.csv')\n",
    "    with open(schema_path) as f:\n",
    "        schema = json.load(f)\n",
    "        \n",
    "    with open(validation_csv_path, 'w') as f:    \n",
    "        for i, record in enumerate(records):\n",
    "            try:\n",
    "                ## TODO: Validate record \n",
    "                jsonschema.validate(instance=record, schema=schema)\n",
    "                pass\n",
    "            except ValidationError as e:\n",
    "                ## Print message if invalid record\n",
    "                print(\"Record does not fit to the JSON schema\")\n",
    "                pass\n",
    "            "
   ]
  },
  {
   "cell_type": "code",
   "execution_count": 13,
   "id": "returning-longitude",
   "metadata": {},
   "outputs": [],
   "source": [
    "validate_jsonl_data(records)"
   ]
  },
  {
   "cell_type": "markdown",
   "id": "equal-language",
   "metadata": {},
   "source": [
    "3.1.b Avro"
   ]
  },
  {
   "cell_type": "code",
   "execution_count": 14,
   "id": "unusual-alexandria",
   "metadata": {},
   "outputs": [],
   "source": [
    "def create_avro_dataset(records):\n",
    "    schema_path = schema_dir.joinpath('routes.avsc')\n",
    "    data_path = results_dir.joinpath('routes.avro')\n",
    "    ## TODO: Use fastavro to create Avro dataset\n",
    "    \n",
    "    with open (schema_path) as fo:\n",
    "        schema = json.loads(fo.read())\n",
    "    parsed_schema = fastavro.parse_schema(schema)\n",
    "    \n",
    "    with open (data_path, 'wb') as out:\n",
    "        fastavro.writer(out, parsed_schema, records)"
   ]
  },
  {
   "cell_type": "code",
   "execution_count": 15,
   "id": "missing-installation",
   "metadata": {},
   "outputs": [],
   "source": [
    "create_avro_dataset(records)    "
   ]
  },
  {
   "cell_type": "markdown",
   "id": "preceding-cardiff",
   "metadata": {},
   "source": [
    "3.1.c Parquet"
   ]
  },
  {
   "cell_type": "code",
   "execution_count": 17,
   "id": "medium-mileage",
   "metadata": {},
   "outputs": [],
   "source": [
    "def create_parquet_dataset():\n",
    "    src_data_path = 'data/processed/openflights/routes.jsonl.gz'\n",
    "    parquet_output_path = results_dir.joinpath('routes.parquet')\n",
    "    s3 = s3fs.S3FileSystem(\n",
    "        anon=True,\n",
    "        client_kwargs={\n",
    "            'endpoint_url': endpoint_url\n",
    "        }\n",
    "    )\n",
    "    with s3.open(src_data_path, 'rb') as f_gz:\n",
    "        with gzip.open(f_gz, 'rb') as f:\n",
    "            pass\n",
    "            records = [json.loads(line) for line in f.readlines()]\n",
    "    df = pd.DataFrame(records)\n",
    "    #with gzip.open(src_data_path, 'rb') as f:\n",
    "       \n",
    "    #print(records)\n",
    "    #print(type(records))\n",
    "       \n",
    "    #with s3.open(src_data_path, 'rb') as f_gz:\n",
    "    #    with gzip.open(f_gz, 'rb') as f:\n",
    "        #pass\n",
    "        ## TODO: Use Apache Arrow to create Parquet table and save the dataset\n",
    "    table = pa.Table.from_pandas(df)\n",
    "   # print(table)\n",
    "    pq.write_table(table, parquet_output_path, compression='none')\n",
    "\n",
    "create_parquet_dataset()"
   ]
  },
  {
   "cell_type": "markdown",
   "id": "abstract-treaty",
   "metadata": {},
   "source": [
    "# 3.1.d Protocol Buffers"
   ]
  },
  {
   "cell_type": "code",
   "execution_count": 19,
   "id": "lucky-cookbook",
   "metadata": {},
   "outputs": [],
   "source": [
    "sys.path.insert(0, os.path.abspath('routes_pb2'))\n",
    "\n",
    "import routes_pb2\n",
    "\n",
    "def _airport_to_proto_obj(airport):\n",
    "    obj = routes_pb2.Airport()\n",
    "    if airport is None:\n",
    "        return None\n",
    "    if airport.get('airport_id') is None:\n",
    "        return None\n",
    "\n",
    "    obj.airport_id = airport.get('airport_id')\n",
    "    if airport.get('name'):\n",
    "        obj.name = airport.get('name')\n",
    "    if airport.get('city'):\n",
    "        obj.city = airport.get('city')\n",
    "    if airport.get('iata'):\n",
    "        obj.iata = airport.get('iata')\n",
    "    if airport.get('icao'):\n",
    "        obj.icao = airport.get('icao')\n",
    "    if airport.get('altitude'):\n",
    "        obj.altitude = airport.get('altitude')\n",
    "    if airport.get('timezone'):\n",
    "        obj.timezone = airport.get('timezone')\n",
    "    if airport.get('dst'):\n",
    "        obj.dst = airport.get('dst')\n",
    "    if airport.get('tz_id'):\n",
    "        obj.tz_id = airport.get('tz_id')\n",
    "    if airport.get('type'):\n",
    "        obj.type = airport.get('type')\n",
    "    if airport.get('source'):\n",
    "        obj.source = airport.get('source')\n",
    "\n",
    "    obj.latitude = airport.get('latitude')\n",
    "    obj.longitude = airport.get('longitude')\n",
    "\n",
    "    return obj\n",
    "\n",
    "\n",
    "def _airline_to_proto_obj(airline):\n",
    "    obj = routes_pb2.Airline()\n",
    "    ## TODO: Create an Airline obj using Protocol Buffers API\n",
    "    if airline is None:\n",
    "        return None\n",
    "    if airline.get('airline_id') is None:\n",
    "        return None\n",
    "\n",
    "    obj.airline_id = airline.get('airline_id')\n",
    "    if airline.get('name'):\n",
    "        obj.name = airline.get('name')\n",
    "    if airline.get('alias'):\n",
    "        obj.alias = airline.get('alias')\n",
    "    if airline.get('iata'):\n",
    "        obj.iata = airline.get('iata')\n",
    "    if airline.get('icao'):\n",
    "        obj.icao = airline.get('icao')\n",
    "    if airline.get('callsign'):\n",
    "        obj.callsign = airline.get('callsign')\n",
    "    if airline.get('country'):\n",
    "        obj.country = airline.get('country')\n",
    "    if airline.get('active'):\n",
    "        obj.active = airline.get('active')\n",
    "    return obj\n",
    "\n",
    "\n",
    "def create_protobuf_dataset(records):\n",
    "    routes = routes_pb2.Routes()\n",
    "    for record in records:\n",
    "        route = routes_pb2.Route()\n",
    "        ## TODO: Implement the code to create the Protocol Buffers Dataset\n",
    "        for key, value in record.items():\n",
    "            if key=='airline':\n",
    "                airline = _airline_to_proto_obj(value)\n",
    "                airin = route.airline\n",
    "                airin.name = airline.name\n",
    "                airin.airline_id = airline.airline_id\n",
    "                airin.active = airline.active\n",
    "            if key=='src_airport' and value is not None:\n",
    "                src_airport = _airport_to_proto_obj(value)\n",
    "                srcairin = route.src_airport\n",
    "                srcairin.name = src_airport.name\n",
    "                srcairin.airport_id = src_airport.airport_id\n",
    "                srcairin.latitude = src_airport.latitude\n",
    "                srcairin.longitude = src_airport.longitude\n",
    "\n",
    "            if key=='dst_airport' and value is not None:\n",
    "                dst_airport = _airport_to_proto_obj(value)\n",
    "                dstairin = route.dst_airport\n",
    "                dstairin.name = dst_airport.name\n",
    "                dstairin.airport_id = dst_airport.airport_id\n",
    "                dstairin.latitude = dst_airport.latitude\n",
    "                dstairin.longitude = dst_airport.longitude\n",
    "\n",
    "            if key=='codeshare':\n",
    "                route.codeshare = value\n",
    "        routes.route.append(route)\n",
    "\n",
    "    data_path = results_dir.joinpath('routes.pb')\n",
    "\n",
    "    with open(data_path, 'wb') as f:\n",
    "        f.write(routes.SerializeToString())\n",
    "        \n",
    "    compressed_path = results_dir.joinpath('routes.pb.snappy')\n",
    "    \n",
    "    with open(compressed_path, 'wb') as f:\n",
    "        f.write(snappy.compress(routes.SerializeToString()))\n",
    "        \n",
    "create_protobuf_dataset(records)"
   ]
  },
  {
   "cell_type": "markdown",
   "id": "numeric-protein",
   "metadata": {},
   "source": [
    "3.2"
   ]
  },
  {
   "cell_type": "markdown",
   "id": "generous-contact",
   "metadata": {},
   "source": [
    "3.2.a Simple Geohash Index"
   ]
  },
  {
   "cell_type": "code",
   "execution_count": 21,
   "id": "ongoing-license",
   "metadata": {},
   "outputs": [],
   "source": [
    "def create_hash_dirs(records):\n",
    "    geoindex_dir = results_dir.joinpath('geoindex')\n",
    "    geoindex_dir.mkdir(exist_ok=True, parents=True)\n",
    "    hashes = []\n",
    "    ## TODO: Create hash index\n",
    "    for record in records:\n",
    "        src_airport = record.get('src_airport', {})\n",
    "        if src_airport:\n",
    "            latitude = src_airport.get('latitude')\n",
    "            longitude = src_airport.get('longitude')\n",
    "            if latitude and longitude:\n",
    "                hashes.append(pygeohash.encode(latitude, longitude))\n",
    "    \n",
    "    hashes.sort()\n",
    "    \n",
    "    three_letter = sorted(list(set([entry[:3] for entry in hashes])))\n",
    "    \n",
    "    hash_index = {value: [] for value in three_letter}\n",
    "    \n",
    "    for record in records:\n",
    "        geohash = record.get('geohash')\n",
    "        if geohash:\n",
    "            hash_index[geohash[:3]].append(record)\n",
    "            \n",
    "    for key, values in hash_index.items():\n",
    "        output_dir = geoindex_dir.joinpath(str(key[:1])).joinpath(str(key[:2]))\n",
    "        output_dir.mkdir(exist_ok=True, parents=True)\n",
    "        output_path = output_dir.joinpath('{}.jsonl.gz'.format(key))\n",
    "        with gzip.open(output_path, 'w') as f:\n",
    "            json_output = '\\n'.join([json.dumps(value) for value in values])\n",
    "            f.write(json_output.encode('utf-8'))"
   ]
  },
  {
   "cell_type": "code",
   "execution_count": 22,
   "id": "sublime-nigeria",
   "metadata": {},
   "outputs": [],
   "source": [
    "create_hash_dirs(records)"
   ]
  },
  {
   "cell_type": "markdown",
   "id": "stretch-cancellation",
   "metadata": {},
   "source": [
    "3.2.b Simple Search Feature"
   ]
  },
  {
   "cell_type": "code",
   "execution_count": 23,
   "id": "offshore-bristol",
   "metadata": {},
   "outputs": [],
   "source": [
    "def airport_search(latitude, longitude):\n",
    "    ## TODO: Create simple search to return nearest airport\n",
    "    h = pygeohash.encode(latitude,longitude)\n",
    "    dist = 0\n",
    "    name = ''\n",
    "    for i,record in enumerate(records):\n",
    "        src_airport = record.get('src_airport', {})\n",
    "        if src_airport:\n",
    "            lat = src_airport.get('latitude')\n",
    "            long = src_airport.get('longitude')\n",
    "            a_name = src_airport.get('name')\n",
    "            if lat and long:\n",
    "                h1 = pygeohash.encode(lat,long)\n",
    "                \n",
    "                dist_n = pygeohash.geohash_approximate_distance(h,h1)\n",
    "                if i==0:\n",
    "                    dist = dist_n\n",
    "                else:\n",
    "                    if dist > dist_n:\n",
    "                        dist = dist_n\n",
    "                        name = a_name\n",
    "    print(name)\n",
    "    pass\n",
    "    \n"
   ]
  },
  {
   "cell_type": "code",
   "execution_count": 24,
   "id": "fifty-blackberry",
   "metadata": {},
   "outputs": [
    {
     "name": "stdout",
     "output_type": "stream",
     "text": [
      "Eppley Airfield\n"
     ]
    }
   ],
   "source": [
    "airport_search(41.1499988, -95.91779)"
   ]
  }
 ],
 "metadata": {
  "kernelspec": {
   "display_name": "Python 3",
   "language": "python",
   "name": "python3"
  },
  "language_info": {
   "codemirror_mode": {
    "name": "ipython",
    "version": 3
   },
   "file_extension": ".py",
   "mimetype": "text/x-python",
   "name": "python",
   "nbconvert_exporter": "python",
   "pygments_lexer": "ipython3",
   "version": "3.8.8"
  }
 },
 "nbformat": 4,
 "nbformat_minor": 5
}
