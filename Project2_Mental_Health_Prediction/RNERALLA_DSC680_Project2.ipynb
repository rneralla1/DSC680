{
 "cells": [
  {
   "cell_type": "markdown",
   "metadata": {},
   "source": [
    "# Mental Health Prediction using Machine Learning Models"
   ]
  },
  {
   "cell_type": "code",
   "execution_count": null,
   "metadata": {},
   "outputs": [],
   "source": [
    "# Import required packages\n",
    "import pandas as pd\n",
    "import numpy as np\n",
    "import matplotlib.pyplot as plt\n",
    "# Import required packages for Scaling Numerical input data\n",
    "import sklearn\n",
    "import sklearn.preprocessing\n",
    "from sklearn.preprocessing import MinMaxScaler"
   ]
  },
  {
   "cell_type": "code",
   "execution_count": 2,
   "metadata": {},
   "outputs": [
    {
     "data": {
      "text/html": [
       "<div>\n",
       "<style scoped>\n",
       "    .dataframe tbody tr th:only-of-type {\n",
       "        vertical-align: middle;\n",
       "    }\n",
       "\n",
       "    .dataframe tbody tr th {\n",
       "        vertical-align: top;\n",
       "    }\n",
       "\n",
       "    .dataframe thead th {\n",
       "        text-align: right;\n",
       "    }\n",
       "</style>\n",
       "<table border=\"1\" class=\"dataframe\">\n",
       "  <thead>\n",
       "    <tr style=\"text-align: right;\">\n",
       "      <th></th>\n",
       "      <th>Timestamp</th>\n",
       "      <th>Age</th>\n",
       "      <th>Gender</th>\n",
       "      <th>Country</th>\n",
       "      <th>state</th>\n",
       "      <th>self_employed</th>\n",
       "      <th>family_history</th>\n",
       "      <th>treatment</th>\n",
       "      <th>work_interfere</th>\n",
       "      <th>no_employees</th>\n",
       "      <th>...</th>\n",
       "      <th>leave</th>\n",
       "      <th>mental_health_consequence</th>\n",
       "      <th>phys_health_consequence</th>\n",
       "      <th>coworkers</th>\n",
       "      <th>supervisor</th>\n",
       "      <th>mental_health_interview</th>\n",
       "      <th>phys_health_interview</th>\n",
       "      <th>mental_vs_physical</th>\n",
       "      <th>obs_consequence</th>\n",
       "      <th>comments</th>\n",
       "    </tr>\n",
       "  </thead>\n",
       "  <tbody>\n",
       "    <tr>\n",
       "      <th>0</th>\n",
       "      <td>8/27/2014 11:29</td>\n",
       "      <td>37</td>\n",
       "      <td>Female</td>\n",
       "      <td>United States</td>\n",
       "      <td>IL</td>\n",
       "      <td>No</td>\n",
       "      <td>No</td>\n",
       "      <td>Yes</td>\n",
       "      <td>Often</td>\n",
       "      <td>25-Jun</td>\n",
       "      <td>...</td>\n",
       "      <td>Somewhat easy</td>\n",
       "      <td>No</td>\n",
       "      <td>No</td>\n",
       "      <td>Some of them</td>\n",
       "      <td>Yes</td>\n",
       "      <td>No</td>\n",
       "      <td>Maybe</td>\n",
       "      <td>Yes</td>\n",
       "      <td>No</td>\n",
       "      <td>NaN</td>\n",
       "    </tr>\n",
       "    <tr>\n",
       "      <th>1</th>\n",
       "      <td>8/27/2014 11:29</td>\n",
       "      <td>44</td>\n",
       "      <td>Male</td>\n",
       "      <td>United States</td>\n",
       "      <td>IN</td>\n",
       "      <td>No</td>\n",
       "      <td>No</td>\n",
       "      <td>No</td>\n",
       "      <td>Rarely</td>\n",
       "      <td>More than 1000</td>\n",
       "      <td>...</td>\n",
       "      <td>Don't know</td>\n",
       "      <td>Maybe</td>\n",
       "      <td>No</td>\n",
       "      <td>No</td>\n",
       "      <td>No</td>\n",
       "      <td>No</td>\n",
       "      <td>No</td>\n",
       "      <td>Yes</td>\n",
       "      <td>No</td>\n",
       "      <td>NaN</td>\n",
       "    </tr>\n",
       "    <tr>\n",
       "      <th>2</th>\n",
       "      <td>8/27/2014 11:29</td>\n",
       "      <td>32</td>\n",
       "      <td>Male</td>\n",
       "      <td>Canada</td>\n",
       "      <td>NaN</td>\n",
       "      <td>No</td>\n",
       "      <td>No</td>\n",
       "      <td>No</td>\n",
       "      <td>Rarely</td>\n",
       "      <td>25-Jun</td>\n",
       "      <td>...</td>\n",
       "      <td>Somewhat difficult</td>\n",
       "      <td>No</td>\n",
       "      <td>No</td>\n",
       "      <td>Yes</td>\n",
       "      <td>Yes</td>\n",
       "      <td>Yes</td>\n",
       "      <td>Yes</td>\n",
       "      <td>No</td>\n",
       "      <td>No</td>\n",
       "      <td>NaN</td>\n",
       "    </tr>\n",
       "    <tr>\n",
       "      <th>3</th>\n",
       "      <td>8/27/2014 11:29</td>\n",
       "      <td>31</td>\n",
       "      <td>Male</td>\n",
       "      <td>United Kingdom</td>\n",
       "      <td>NaN</td>\n",
       "      <td>No</td>\n",
       "      <td>Yes</td>\n",
       "      <td>Yes</td>\n",
       "      <td>Often</td>\n",
       "      <td>26-100</td>\n",
       "      <td>...</td>\n",
       "      <td>Somewhat difficult</td>\n",
       "      <td>Yes</td>\n",
       "      <td>Yes</td>\n",
       "      <td>Some of them</td>\n",
       "      <td>No</td>\n",
       "      <td>Maybe</td>\n",
       "      <td>Maybe</td>\n",
       "      <td>No</td>\n",
       "      <td>Yes</td>\n",
       "      <td>NaN</td>\n",
       "    </tr>\n",
       "    <tr>\n",
       "      <th>4</th>\n",
       "      <td>8/27/2014 11:30</td>\n",
       "      <td>31</td>\n",
       "      <td>Male</td>\n",
       "      <td>United States</td>\n",
       "      <td>TX</td>\n",
       "      <td>No</td>\n",
       "      <td>No</td>\n",
       "      <td>No</td>\n",
       "      <td>Never</td>\n",
       "      <td>100-500</td>\n",
       "      <td>...</td>\n",
       "      <td>Don't know</td>\n",
       "      <td>No</td>\n",
       "      <td>No</td>\n",
       "      <td>Some of them</td>\n",
       "      <td>Yes</td>\n",
       "      <td>Yes</td>\n",
       "      <td>Yes</td>\n",
       "      <td>Yes</td>\n",
       "      <td>No</td>\n",
       "      <td>NaN</td>\n",
       "    </tr>\n",
       "  </tbody>\n",
       "</table>\n",
       "<p>5 rows × 27 columns</p>\n",
       "</div>"
      ],
      "text/plain": [
       "         Timestamp  Age  Gender         Country state self_employed  \\\n",
       "0  8/27/2014 11:29   37  Female   United States    IL            No   \n",
       "1  8/27/2014 11:29   44    Male   United States    IN            No   \n",
       "2  8/27/2014 11:29   32    Male          Canada   NaN            No   \n",
       "3  8/27/2014 11:29   31    Male  United Kingdom   NaN            No   \n",
       "4  8/27/2014 11:30   31    Male   United States    TX            No   \n",
       "\n",
       "  family_history treatment work_interfere    no_employees  ...  \\\n",
       "0             No       Yes          Often          25-Jun  ...   \n",
       "1             No        No         Rarely  More than 1000  ...   \n",
       "2             No        No         Rarely          25-Jun  ...   \n",
       "3            Yes       Yes          Often          26-100  ...   \n",
       "4             No        No          Never         100-500  ...   \n",
       "\n",
       "                leave mental_health_consequence phys_health_consequence  \\\n",
       "0       Somewhat easy                        No                      No   \n",
       "1          Don't know                     Maybe                      No   \n",
       "2  Somewhat difficult                        No                      No   \n",
       "3  Somewhat difficult                       Yes                     Yes   \n",
       "4          Don't know                        No                      No   \n",
       "\n",
       "      coworkers supervisor mental_health_interview phys_health_interview  \\\n",
       "0  Some of them        Yes                      No                 Maybe   \n",
       "1            No         No                      No                    No   \n",
       "2           Yes        Yes                     Yes                   Yes   \n",
       "3  Some of them         No                   Maybe                 Maybe   \n",
       "4  Some of them        Yes                     Yes                   Yes   \n",
       "\n",
       "  mental_vs_physical obs_consequence comments  \n",
       "0                Yes              No      NaN  \n",
       "1                Yes              No      NaN  \n",
       "2                 No              No      NaN  \n",
       "3                 No             Yes      NaN  \n",
       "4                Yes              No      NaN  \n",
       "\n",
       "[5 rows x 27 columns]"
      ]
     },
     "execution_count": 2,
     "metadata": {},
     "output_type": "execute_result"
    }
   ],
   "source": [
    "# read data from the file and load in to dataframe\n",
    "df = pd.read_csv(\"datasets_Health_survey.csv\")\n",
    "df.head()"
   ]
  },
  {
   "cell_type": "code",
   "execution_count": 3,
   "metadata": {},
   "outputs": [
    {
     "data": {
      "text/plain": [
       "(1259, 27)"
      ]
     },
     "execution_count": 3,
     "metadata": {},
     "output_type": "execute_result"
    }
   ],
   "source": [
    "# Retrive the number of rows and columns in data frame\n",
    "df.shape"
   ]
  },
  {
   "cell_type": "code",
   "execution_count": 4,
   "metadata": {},
   "outputs": [
    {
     "data": {
      "text/plain": [
       "Timestamp                    object\n",
       "Age                           int64\n",
       "Gender                       object\n",
       "Country                      object\n",
       "state                        object\n",
       "self_employed                object\n",
       "family_history               object\n",
       "treatment                    object\n",
       "work_interfere               object\n",
       "no_employees                 object\n",
       "remote_work                  object\n",
       "tech_company                 object\n",
       "benefits                     object\n",
       "care_options                 object\n",
       "wellness_program             object\n",
       "seek_help                    object\n",
       "anonymity                    object\n",
       "leave                        object\n",
       "mental_health_consequence    object\n",
       "phys_health_consequence      object\n",
       "coworkers                    object\n",
       "supervisor                   object\n",
       "mental_health_interview      object\n",
       "phys_health_interview        object\n",
       "mental_vs_physical           object\n",
       "obs_consequence              object\n",
       "comments                     object\n",
       "dtype: object"
      ]
     },
     "execution_count": 4,
     "metadata": {},
     "output_type": "execute_result"
    }
   ],
   "source": [
    "# Retrive the data types of the columns\n",
    "df.dtypes"
   ]
  },
  {
   "cell_type": "code",
   "execution_count": 5,
   "metadata": {},
   "outputs": [
    {
     "name": "stdout",
     "output_type": "stream",
     "text": [
      "Describe Data\n",
      "               Age\n",
      "count  1259.000000\n",
      "mean     32.057983\n",
      "std       7.297165\n",
      "min      11.000000\n",
      "25%      27.000000\n",
      "50%      31.000000\n",
      "75%      36.000000\n",
      "max      72.000000\n"
     ]
    }
   ],
   "source": [
    "# Retrive the stats of numeric fields\n",
    "print(\"Describe Data\")\n",
    "print(df.describe())"
   ]
  },
  {
   "cell_type": "code",
   "execution_count": 6,
   "metadata": {},
   "outputs": [
    {
     "name": "stdout",
     "output_type": "stream",
     "text": [
      "Summarized Data\n",
      "              Timestamp Gender        Country state self_employed  \\\n",
      "count              1259   1259           1259   744          1259   \n",
      "unique              884      2             48    45             2   \n",
      "top     8/27/2014 15:24   Male  United States    CA            No   \n",
      "freq                  8   1011            751   138          1113   \n",
      "\n",
      "       family_history treatment work_interfere no_employees remote_work  ...  \\\n",
      "count            1259      1259            995         1259        1259  ...   \n",
      "unique              2         2              4            6           2  ...   \n",
      "top                No       Yes      Sometimes       25-Jun          No  ...   \n",
      "freq              767       637            465          290         883  ...   \n",
      "\n",
      "             leave mental_health_consequence phys_health_consequence  \\\n",
      "count         1259                      1259                    1259   \n",
      "unique           5                         3                       3   \n",
      "top     Don't know                        No                      No   \n",
      "freq           563                       490                     925   \n",
      "\n",
      "           coworkers supervisor mental_health_interview phys_health_interview  \\\n",
      "count           1259       1259                    1259                  1259   \n",
      "unique             3          3                       3                     3   \n",
      "top     Some of them        Yes                      No                 Maybe   \n",
      "freq             774        516                    1008                   557   \n",
      "\n",
      "       mental_vs_physical obs_consequence                         comments  \n",
      "count                1259            1259                              164  \n",
      "unique                  2               2                              160  \n",
      "top                   Yes              No  * Small family business - YMMV.  \n",
      "freq                  919            1075                                5  \n",
      "\n",
      "[4 rows x 26 columns]\n"
     ]
    }
   ],
   "source": [
    "# Retrive the stats of categorical Fields\n",
    "print(\"Summarized Data\")\n",
    "print(df.describe(include=['O']))"
   ]
  },
  {
   "cell_type": "code",
   "execution_count": 7,
   "metadata": {},
   "outputs": [
    {
     "name": "stdout",
     "output_type": "stream",
     "text": [
      "Duplicate Rows except first occurrence based on all columns are :\n",
      "           Timestamp  Age Gender         Country state self_employed  \\\n",
      "860  8/28/2014 17:02   32   Male  United Kingdom   NaN            No   \n",
      "\n",
      "    family_history treatment work_interfere no_employees  ...       leave  \\\n",
      "860            Yes       Yes         Rarely       25-Jun  ...  Don't know   \n",
      "\n",
      "    mental_health_consequence phys_health_consequence     coworkers  \\\n",
      "860                       Yes                   Maybe  Some of them   \n",
      "\n",
      "    supervisor mental_health_interview phys_health_interview  \\\n",
      "860         No                      No                    No   \n",
      "\n",
      "    mental_vs_physical obs_consequence comments  \n",
      "860                 No              No      NaN  \n",
      "\n",
      "[1 rows x 27 columns]\n"
     ]
    }
   ],
   "source": [
    "#Verify the data if there are any duplicates\n",
    "\n",
    "dup_df = df[df.duplicated()]\n",
    "print(\"Duplicate Rows except first occurrence based on all columns are :\")\n",
    "print(dup_df)"
   ]
  },
  {
   "cell_type": "code",
   "execution_count": 8,
   "metadata": {},
   "outputs": [
    {
     "data": {
      "text/plain": [
       "Timestamp                       0\n",
       "Age                             0\n",
       "Gender                          0\n",
       "Country                         0\n",
       "state                         515\n",
       "self_employed                   0\n",
       "family_history                  0\n",
       "treatment                       0\n",
       "work_interfere                264\n",
       "no_employees                    0\n",
       "remote_work                     0\n",
       "tech_company                    0\n",
       "benefits                        0\n",
       "care_options                    0\n",
       "wellness_program                0\n",
       "seek_help                       0\n",
       "anonymity                       0\n",
       "leave                           0\n",
       "mental_health_consequence       0\n",
       "phys_health_consequence         0\n",
       "coworkers                       0\n",
       "supervisor                      0\n",
       "mental_health_interview         0\n",
       "phys_health_interview           0\n",
       "mental_vs_physical              0\n",
       "obs_consequence                 0\n",
       "comments                     1095\n",
       "dtype: int64"
      ]
     },
     "execution_count": 8,
     "metadata": {},
     "output_type": "execute_result"
    }
   ],
   "source": [
    "# Checking the count of null values in each column\n",
    "df.isnull().sum()"
   ]
  },
  {
   "cell_type": "code",
   "execution_count": 9,
   "metadata": {},
   "outputs": [
    {
     "data": {
      "image/png": "[encoded data removed]",
      "text/plain": [
       "<Figure size 576x432 with 1 Axes>"
      ]
     },
     "metadata": {
      "needs_background": "light"
     },
     "output_type": "display_data"
    }
   ],
   "source": [
    "# Plot a histogram on the Age\n",
    "ax=df['Age'].plot(kind='hist', bins=50, fontsize=14, figsize=(8,6))\n",
    "ax.set_title('Age Histogram\\n', fontsize=20)\n",
    "ax.set_ylabel('Count', fontsize=18)\n",
    "ax.set_xlabel('Age', fontsize=18);\n",
    "plt.show()"
   ]
  },
  {
   "cell_type": "code",
   "execution_count": 10,
   "metadata": {
    "scrolled": true
   },
   "outputs": [
    {
     "data": {
      "image/png": "[encoded data removed]",
      "text/plain": [
       "<Figure size 720x720 with 1 Axes>"
      ]
     },
     "metadata": {
      "needs_background": "light"
     },
     "output_type": "display_data"
    }
   ],
   "source": [
    "#display bar chart of Country sorted by counts\n",
    "plt.figure(figsize=(10,10))\n",
    "df.groupby(['Country']).size().sort_values(ascending=True).plot(kind='barh')\n",
    "plt.xlabel('Count')\n",
    "plt.title('Country')\n",
    "plt.show()"
   ]
  },
  {
   "cell_type": "code",
   "execution_count": 11,
   "metadata": {},
   "outputs": [
    {
     "data": {
      "image/png": "[encoded data removed]",
      "text/plain": [
       "<Figure size 1440x720 with 4 Axes>"
      ]
     },
     "metadata": {
      "needs_background": "light"
     },
     "output_type": "display_data"
    }
   ],
   "source": [
    "#Barcharts: \n",
    "plt.rcParams['figure.figsize'] = (20, 10)\n",
    "# make subplots\n",
    "fig, axes = plt.subplots(nrows = 2, ncols = 2)\n",
    "# make the data read to feed into the visulizer\n",
    "X_Gender = df.replace({'Gender': {1: 'Male', 0: 'Female'}}).groupby('Gender').size().reset_index(name='Counts')['Gender']\n",
    "Y_Gender = df.replace({'Gender': {1: 'Male', 0: 'Female'}}).groupby('Gender').size().reset_index(name='Counts')['Counts']\n",
    "# make the bar plot\n",
    "axes[0, 0].bar(X_Gender, Y_Gender)\n",
    "axes[0, 0].set_title('Gender', fontsize=25)\n",
    "axes[0, 0].set_ylabel('Counts', fontsize=20)\n",
    "axes[0, 0].tick_params(axis='both', labelsize=15)\n",
    "\n",
    "# make the data read to feed into the visulizer\n",
    "X_self_employed = df.replace({'self_employed': {1: 'Yes', 2: 'No'}}).groupby('self_employed').size().reset_index(name='Counts')['self_employed']\n",
    "Y_self_employed = df.replace({'self_employed': {1: 'Yes', 2: 'No'}}).groupby('self_employed').size().reset_index(name='Counts')['Counts']\n",
    "# make the bar plot\n",
    "axes[0, 1].bar(X_self_employed, Y_self_employed)\n",
    "axes[0, 1].set_title('self_employed', fontsize=25)\n",
    "axes[0, 1].set_ylabel('Counts', fontsize=20)\n",
    "axes[0, 1].tick_params(axis='both', labelsize=15)\n",
    "\n",
    "# make the data read to feed into the visulizer\n",
    "X_tech_company = df.replace({'tech_company': {1: 'Yes', 2: 'No'}}).groupby('tech_company').size().reset_index(name='Counts')['tech_company']\n",
    "Y_tech_company = df.replace({'tech_company': {1: 'Yes', 2: 'No'}}).groupby('tech_company').size().reset_index(name='Counts')['Counts']\n",
    "# make the bar plot\n",
    "axes[1, 0].bar(X_tech_company, Y_tech_company)\n",
    "axes[1, 0].set_title('tech_company', fontsize=25)\n",
    "axes[1, 0].set_ylabel('Counts', fontsize=20)\n",
    "axes[1, 0].tick_params(axis='both', labelsize=15)\n",
    "\n",
    "# make the data read to feed into the visulizer\n",
    "X_remote_work = df.replace({'remote_work': {1: 'Yes', 2: 'No'}}).groupby('remote_work').size().reset_index(name='Counts')['remote_work']\n",
    "Y_remote_work = df.replace({'remote_work': {1: 'Yes', 2: 'No'}}).groupby('remote_work').size().reset_index(name='Counts')['Counts']\n",
    "# make the bar plot\n",
    "axes[1, 1].bar(X_remote_work, Y_remote_work)\n",
    "axes[1, 1].set_title('remote_work', fontsize=25)\n",
    "axes[1, 1].set_ylabel('Counts', fontsize=20)\n",
    "axes[1, 1].tick_params(axis='both', labelsize=15)\n",
    "#plt.show()"
   ]
  },
  {
   "cell_type": "code",
   "execution_count": 12,
   "metadata": {},
   "outputs": [
    {
     "data": {
      "text/plain": [
       "(1259, 27)"
      ]
     },
     "execution_count": 12,
     "metadata": {},
     "output_type": "execute_result"
    }
   ],
   "source": [
    "# Number of elements in the dataframe \n",
    "df.shape"
   ]
  },
  {
   "cell_type": "code",
   "execution_count": 13,
   "metadata": {},
   "outputs": [
    {
     "data": {
      "text/plain": [
       "(751, 27)"
      ]
     },
     "execution_count": 13,
     "metadata": {},
     "output_type": "execute_result"
    }
   ],
   "source": [
    "#the Country = 'United States' has maximum number of observations \n",
    "#Filter data in the dataframe data for 'United States'\n",
    "\n",
    "df_USA = df[df['Country']=='United States']\n",
    "df_USA.shape"
   ]
  },
  {
   "cell_type": "code",
   "execution_count": 14,
   "metadata": {},
   "outputs": [
    {
     "data": {
      "text/plain": [
       "(751, 7)"
      ]
     },
     "execution_count": 14,
     "metadata": {},
     "output_type": "execute_result"
    }
   ],
   "source": [
    "# Selecting the few set of variables for the analysis\n",
    "#'Age', 'Gender','self_employed', 'tech_company', 'remote_work','family_history','obs_consequence'\n",
    "df_USA_dataset = df_USA[['Age', 'Gender','self_employed', 'tech_company', 'remote_work','family_history','obs_consequence']]\n",
    "df_USA_dataset.shape"
   ]
  },
  {
   "cell_type": "code",
   "execution_count": 15,
   "metadata": {},
   "outputs": [
    {
     "data": {
      "text/html": [
       "<div>\n",
       "<style scoped>\n",
       "    .dataframe tbody tr th:only-of-type {\n",
       "        vertical-align: middle;\n",
       "    }\n",
       "\n",
       "    .dataframe tbody tr th {\n",
       "        vertical-align: top;\n",
       "    }\n",
       "\n",
       "    .dataframe thead th {\n",
       "        text-align: right;\n",
       "    }\n",
       "</style>\n",
       "<table border=\"1\" class=\"dataframe\">\n",
       "  <thead>\n",
       "    <tr style=\"text-align: right;\">\n",
       "      <th></th>\n",
       "      <th>Age</th>\n",
       "      <th>Gender</th>\n",
       "      <th>self_employed</th>\n",
       "      <th>tech_company</th>\n",
       "      <th>remote_work</th>\n",
       "      <th>family_history</th>\n",
       "      <th>obs_consequence</th>\n",
       "    </tr>\n",
       "  </thead>\n",
       "  <tbody>\n",
       "    <tr>\n",
       "      <th>0</th>\n",
       "      <td>37</td>\n",
       "      <td>Female</td>\n",
       "      <td>No</td>\n",
       "      <td>Yes</td>\n",
       "      <td>No</td>\n",
       "      <td>No</td>\n",
       "      <td>No</td>\n",
       "    </tr>\n",
       "    <tr>\n",
       "      <th>1</th>\n",
       "      <td>44</td>\n",
       "      <td>Male</td>\n",
       "      <td>No</td>\n",
       "      <td>No</td>\n",
       "      <td>No</td>\n",
       "      <td>No</td>\n",
       "      <td>No</td>\n",
       "    </tr>\n",
       "    <tr>\n",
       "      <th>4</th>\n",
       "      <td>31</td>\n",
       "      <td>Male</td>\n",
       "      <td>No</td>\n",
       "      <td>Yes</td>\n",
       "      <td>Yes</td>\n",
       "      <td>No</td>\n",
       "      <td>No</td>\n",
       "    </tr>\n",
       "    <tr>\n",
       "      <th>5</th>\n",
       "      <td>33</td>\n",
       "      <td>Male</td>\n",
       "      <td>No</td>\n",
       "      <td>Yes</td>\n",
       "      <td>No</td>\n",
       "      <td>Yes</td>\n",
       "      <td>No</td>\n",
       "    </tr>\n",
       "    <tr>\n",
       "      <th>6</th>\n",
       "      <td>35</td>\n",
       "      <td>Female</td>\n",
       "      <td>No</td>\n",
       "      <td>Yes</td>\n",
       "      <td>Yes</td>\n",
       "      <td>Yes</td>\n",
       "      <td>No</td>\n",
       "    </tr>\n",
       "  </tbody>\n",
       "</table>\n",
       "</div>"
      ],
      "text/plain": [
       "   Age  Gender self_employed tech_company remote_work family_history  \\\n",
       "0   37  Female            No          Yes          No             No   \n",
       "1   44    Male            No           No          No             No   \n",
       "4   31    Male            No          Yes         Yes             No   \n",
       "5   33    Male            No          Yes          No            Yes   \n",
       "6   35  Female            No          Yes         Yes            Yes   \n",
       "\n",
       "  obs_consequence  \n",
       "0              No  \n",
       "1              No  \n",
       "4              No  \n",
       "5              No  \n",
       "6              No  "
      ]
     },
     "execution_count": 15,
     "metadata": {},
     "output_type": "execute_result"
    }
   ],
   "source": [
    "df_USA_dataset.head()"
   ]
  },
  {
   "cell_type": "code",
   "execution_count": 16,
   "metadata": {},
   "outputs": [
    {
     "data": {
      "text/html": [
       "<div>\n",
       "<style scoped>\n",
       "    .dataframe tbody tr th:only-of-type {\n",
       "        vertical-align: middle;\n",
       "    }\n",
       "\n",
       "    .dataframe tbody tr th {\n",
       "        vertical-align: top;\n",
       "    }\n",
       "\n",
       "    .dataframe thead th {\n",
       "        text-align: right;\n",
       "    }\n",
       "</style>\n",
       "<table border=\"1\" class=\"dataframe\">\n",
       "  <thead>\n",
       "    <tr style=\"text-align: right;\">\n",
       "      <th></th>\n",
       "      <th>Gender</th>\n",
       "      <th>self_employed</th>\n",
       "      <th>tech_company</th>\n",
       "      <th>remote_work</th>\n",
       "      <th>family_history</th>\n",
       "      <th>obs_consequence</th>\n",
       "    </tr>\n",
       "  </thead>\n",
       "  <tbody>\n",
       "    <tr>\n",
       "      <th>count</th>\n",
       "      <td>751</td>\n",
       "      <td>751</td>\n",
       "      <td>751</td>\n",
       "      <td>751</td>\n",
       "      <td>751</td>\n",
       "      <td>751</td>\n",
       "    </tr>\n",
       "    <tr>\n",
       "      <th>unique</th>\n",
       "      <td>2</td>\n",
       "      <td>2</td>\n",
       "      <td>2</td>\n",
       "      <td>2</td>\n",
       "      <td>2</td>\n",
       "      <td>2</td>\n",
       "    </tr>\n",
       "    <tr>\n",
       "      <th>top</th>\n",
       "      <td>Male</td>\n",
       "      <td>No</td>\n",
       "      <td>Yes</td>\n",
       "      <td>No</td>\n",
       "      <td>No</td>\n",
       "      <td>No</td>\n",
       "    </tr>\n",
       "    <tr>\n",
       "      <th>freq</th>\n",
       "      <td>571</td>\n",
       "      <td>695</td>\n",
       "      <td>611</td>\n",
       "      <td>513</td>\n",
       "      <td>421</td>\n",
       "      <td>662</td>\n",
       "    </tr>\n",
       "  </tbody>\n",
       "</table>\n",
       "</div>"
      ],
      "text/plain": [
       "       Gender self_employed tech_company remote_work family_history  \\\n",
       "count     751           751          751         751            751   \n",
       "unique      2             2            2           2              2   \n",
       "top      Male            No          Yes          No             No   \n",
       "freq      571           695          611         513            421   \n",
       "\n",
       "       obs_consequence  \n",
       "count              751  \n",
       "unique               2  \n",
       "top                 No  \n",
       "freq               662  "
      ]
     },
     "execution_count": 16,
     "metadata": {},
     "output_type": "execute_result"
    }
   ],
   "source": [
    "df_USA_dataset.describe(include=['O'])"
   ]
  },
  {
   "cell_type": "code",
   "execution_count": 17,
   "metadata": {},
   "outputs": [
    {
     "data": {
      "text/plain": [
       "Age                0\n",
       "Gender             0\n",
       "self_employed      0\n",
       "tech_company       0\n",
       "remote_work        0\n",
       "family_history     0\n",
       "obs_consequence    0\n",
       "dtype: int64"
      ]
     },
     "execution_count": 17,
     "metadata": {},
     "output_type": "execute_result"
    }
   ],
   "source": [
    "# Checking the count of null values in each column\n",
    "df_USA_dataset.isnull().sum()"
   ]
  },
  {
   "cell_type": "code",
   "execution_count": 18,
   "metadata": {},
   "outputs": [
    {
     "name": "stdout",
     "output_type": "stream",
     "text": [
      "Duplicate Rows except first occurrence based on all columns are :\n"
     ]
    },
    {
     "data": {
      "text/plain": [
       "(387, 7)"
      ]
     },
     "execution_count": 18,
     "metadata": {},
     "output_type": "execute_result"
    }
   ],
   "source": [
    "# Checking for the duplicate data in the dataframe\n",
    "dup_df_USA_dataset = df_USA_dataset[df_USA_dataset.duplicated()]\n",
    "print(\"Duplicate Rows except first occurrence based on all columns are :\")\n",
    "dup_df_USA_dataset.shape"
   ]
  },
  {
   "cell_type": "code",
   "execution_count": 19,
   "metadata": {},
   "outputs": [
    {
     "name": "stdout",
     "output_type": "stream",
     "text": [
      "(219, 7)\n"
     ]
    },
    {
     "name": "stderr",
     "output_type": "stream",
     "text": [
      "<ipython-input-19-30ed41ce1910>:2: SettingWithCopyWarning: \n",
      "A value is trying to be set on a copy of a slice from a DataFrame\n",
      "\n",
      "See the caveats in the documentation: https://pandas.pydata.org/pandas-docs/stable/user_guide/indexing.html#returning-a-view-versus-a-copy\n",
      "  df_USA_dataset.drop_duplicates(keep=False,inplace=True)\n"
     ]
    },
    {
     "data": {
      "text/html": [
       "<div>\n",
       "<style scoped>\n",
       "    .dataframe tbody tr th:only-of-type {\n",
       "        vertical-align: middle;\n",
       "    }\n",
       "\n",
       "    .dataframe tbody tr th {\n",
       "        vertical-align: top;\n",
       "    }\n",
       "\n",
       "    .dataframe thead th {\n",
       "        text-align: right;\n",
       "    }\n",
       "</style>\n",
       "<table border=\"1\" class=\"dataframe\">\n",
       "  <thead>\n",
       "    <tr style=\"text-align: right;\">\n",
       "      <th></th>\n",
       "      <th>Age</th>\n",
       "      <th>Gender</th>\n",
       "      <th>self_employed</th>\n",
       "      <th>tech_company</th>\n",
       "      <th>remote_work</th>\n",
       "      <th>family_history</th>\n",
       "      <th>obs_consequence</th>\n",
       "    </tr>\n",
       "  </thead>\n",
       "  <tbody>\n",
       "    <tr>\n",
       "      <th>0</th>\n",
       "      <td>44</td>\n",
       "      <td>Male</td>\n",
       "      <td>No</td>\n",
       "      <td>No</td>\n",
       "      <td>No</td>\n",
       "      <td>No</td>\n",
       "      <td>No</td>\n",
       "    </tr>\n",
       "    <tr>\n",
       "      <th>1</th>\n",
       "      <td>42</td>\n",
       "      <td>Female</td>\n",
       "      <td>No</td>\n",
       "      <td>Yes</td>\n",
       "      <td>No</td>\n",
       "      <td>Yes</td>\n",
       "      <td>No</td>\n",
       "    </tr>\n",
       "    <tr>\n",
       "      <th>2</th>\n",
       "      <td>42</td>\n",
       "      <td>Female</td>\n",
       "      <td>No</td>\n",
       "      <td>No</td>\n",
       "      <td>No</td>\n",
       "      <td>Yes</td>\n",
       "      <td>Yes</td>\n",
       "    </tr>\n",
       "    <tr>\n",
       "      <th>3</th>\n",
       "      <td>46</td>\n",
       "      <td>Male</td>\n",
       "      <td>Yes</td>\n",
       "      <td>Yes</td>\n",
       "      <td>Yes</td>\n",
       "      <td>Yes</td>\n",
       "      <td>Yes</td>\n",
       "    </tr>\n",
       "    <tr>\n",
       "      <th>4</th>\n",
       "      <td>31</td>\n",
       "      <td>Male</td>\n",
       "      <td>Yes</td>\n",
       "      <td>Yes</td>\n",
       "      <td>Yes</td>\n",
       "      <td>No</td>\n",
       "      <td>No</td>\n",
       "    </tr>\n",
       "  </tbody>\n",
       "</table>\n",
       "</div>"
      ],
      "text/plain": [
       "   Age  Gender self_employed tech_company remote_work family_history  \\\n",
       "0   44    Male            No           No          No             No   \n",
       "1   42  Female            No          Yes          No            Yes   \n",
       "2   42  Female            No           No          No            Yes   \n",
       "3   46    Male           Yes          Yes         Yes            Yes   \n",
       "4   31    Male           Yes          Yes         Yes             No   \n",
       "\n",
       "  obs_consequence  \n",
       "0              No  \n",
       "1              No  \n",
       "2             Yes  \n",
       "3             Yes  \n",
       "4              No  "
      ]
     },
     "execution_count": 19,
     "metadata": {},
     "output_type": "execute_result"
    }
   ],
   "source": [
    "# Removing Duplicates and reseting the index\n",
    "df_USA_dataset.drop_duplicates(keep=False,inplace=True)\n",
    "df_USA_dataset = df_USA_dataset.reset_index(drop=True)\n",
    "print(df_USA_dataset.shape)\n",
    "df_USA_dataset.head()"
   ]
  },
  {
   "cell_type": "code",
   "execution_count": 20,
   "metadata": {},
   "outputs": [
    {
     "name": "stdout",
     "output_type": "stream",
     "text": [
      "Number of elements in the Filtered dataframe  (219, 7)\n",
      "Number of elements in the Input Numerical dataframe  (219, 1)\n",
      "Number of elements in the Input Categorical dataframe  (219, 5)\n",
      "Number of elements in the Output Categorical dataframe  (219, 1)\n"
     ]
    }
   ],
   "source": [
    "# Splitting the data in to 3 differnt data sets\n",
    "df_USA_dataset_Age = df_USA_dataset[['Age']]\n",
    "df_USA_dataset_Categorical = df_USA_dataset[['Gender','self_employed', 'tech_company', 'remote_work','family_history']]\n",
    "df_USA_dataset_Label = df_USA_dataset[['obs_consequence']]\n",
    "print('Number of elements in the Filtered dataframe ',df_USA_dataset.shape)\n",
    "print('Number of elements in the Input Numerical dataframe ',df_USA_dataset_Age.shape)\n",
    "print('Number of elements in the Input Categorical dataframe ',df_USA_dataset_Categorical.shape)\n",
    "print('Number of elements in the Output Categorical dataframe ',df_USA_dataset_Label.shape)"
   ]
  },
  {
   "cell_type": "code",
   "execution_count": 21,
   "metadata": {},
   "outputs": [
    {
     "data": {
      "text/plain": [
       "MinMaxScaler()"
      ]
     },
     "execution_count": 21,
     "metadata": {},
     "output_type": "execute_result"
    }
   ],
   "source": [
    "# applying MinMax Scaler\n",
    "scaler=MinMaxScaler()\n",
    "scaler.fit(df_USA_dataset_Age)"
   ]
  },
  {
   "cell_type": "code",
   "execution_count": 22,
   "metadata": {},
   "outputs": [],
   "source": [
    "# Transform Scaled data\n",
    "df_USA_dataset_Age=scaler.transform(df_USA_dataset_Age)"
   ]
  },
  {
   "cell_type": "code",
   "execution_count": 23,
   "metadata": {},
   "outputs": [
    {
     "data": {
      "text/html": [
       "<div>\n",
       "<style scoped>\n",
       "    .dataframe tbody tr th:only-of-type {\n",
       "        vertical-align: middle;\n",
       "    }\n",
       "\n",
       "    .dataframe tbody tr th {\n",
       "        vertical-align: top;\n",
       "    }\n",
       "\n",
       "    .dataframe thead th {\n",
       "        text-align: right;\n",
       "    }\n",
       "</style>\n",
       "<table border=\"1\" class=\"dataframe\">\n",
       "  <thead>\n",
       "    <tr style=\"text-align: right;\">\n",
       "      <th></th>\n",
       "      <th>Age</th>\n",
       "    </tr>\n",
       "  </thead>\n",
       "  <tbody>\n",
       "    <tr>\n",
       "      <th>0</th>\n",
       "      <td>0.540984</td>\n",
       "    </tr>\n",
       "    <tr>\n",
       "      <th>1</th>\n",
       "      <td>0.508197</td>\n",
       "    </tr>\n",
       "    <tr>\n",
       "      <th>2</th>\n",
       "      <td>0.508197</td>\n",
       "    </tr>\n",
       "    <tr>\n",
       "      <th>3</th>\n",
       "      <td>0.573770</td>\n",
       "    </tr>\n",
       "    <tr>\n",
       "      <th>4</th>\n",
       "      <td>0.327869</td>\n",
       "    </tr>\n",
       "  </tbody>\n",
       "</table>\n",
       "</div>"
      ],
      "text/plain": [
       "        Age\n",
       "0  0.540984\n",
       "1  0.508197\n",
       "2  0.508197\n",
       "3  0.573770\n",
       "4  0.327869"
      ]
     },
     "execution_count": 23,
     "metadata": {},
     "output_type": "execute_result"
    }
   ],
   "source": [
    "# Convert the data to DataFrame\n",
    "df_USA_dataset_Age = pd.DataFrame(df_USA_dataset_Age)\n",
    "df_USA_dataset_Age.columns = ['Age']\n",
    "df_USA_dataset_Age.head()\n"
   ]
  },
  {
   "cell_type": "code",
   "execution_count": 24,
   "metadata": {},
   "outputs": [
    {
     "name": "stdout",
     "output_type": "stream",
     "text": [
      "              Age\n",
      "count  219.000000\n",
      "mean     0.409462\n",
      "std      0.165993\n",
      "min      0.000000\n",
      "25%      0.286885\n",
      "50%      0.393443\n",
      "75%      0.508197\n",
      "max      1.000000\n"
     ]
    }
   ],
   "source": [
    "# Display the stats of the data after applying MinMax Scaler\n",
    "print(df_USA_dataset_Age.describe())"
   ]
  },
  {
   "cell_type": "code",
   "execution_count": 25,
   "metadata": {},
   "outputs": [
    {
     "data": {
      "text/html": [
       "<div>\n",
       "<style scoped>\n",
       "    .dataframe tbody tr th:only-of-type {\n",
       "        vertical-align: middle;\n",
       "    }\n",
       "\n",
       "    .dataframe tbody tr th {\n",
       "        vertical-align: top;\n",
       "    }\n",
       "\n",
       "    .dataframe thead th {\n",
       "        text-align: right;\n",
       "    }\n",
       "</style>\n",
       "<table border=\"1\" class=\"dataframe\">\n",
       "  <thead>\n",
       "    <tr style=\"text-align: right;\">\n",
       "      <th></th>\n",
       "      <th>Gender_Female</th>\n",
       "      <th>Gender_Male</th>\n",
       "      <th>self_employed_No</th>\n",
       "      <th>self_employed_Yes</th>\n",
       "      <th>tech_company_No</th>\n",
       "      <th>tech_company_Yes</th>\n",
       "      <th>remote_work_No</th>\n",
       "      <th>remote_work_Yes</th>\n",
       "      <th>family_history_No</th>\n",
       "      <th>family_history_Yes</th>\n",
       "    </tr>\n",
       "  </thead>\n",
       "  <tbody>\n",
       "    <tr>\n",
       "      <th>0</th>\n",
       "      <td>0</td>\n",
       "      <td>1</td>\n",
       "      <td>1</td>\n",
       "      <td>0</td>\n",
       "      <td>1</td>\n",
       "      <td>0</td>\n",
       "      <td>1</td>\n",
       "      <td>0</td>\n",
       "      <td>1</td>\n",
       "      <td>0</td>\n",
       "    </tr>\n",
       "    <tr>\n",
       "      <th>1</th>\n",
       "      <td>1</td>\n",
       "      <td>0</td>\n",
       "      <td>1</td>\n",
       "      <td>0</td>\n",
       "      <td>0</td>\n",
       "      <td>1</td>\n",
       "      <td>1</td>\n",
       "      <td>0</td>\n",
       "      <td>0</td>\n",
       "      <td>1</td>\n",
       "    </tr>\n",
       "    <tr>\n",
       "      <th>2</th>\n",
       "      <td>1</td>\n",
       "      <td>0</td>\n",
       "      <td>1</td>\n",
       "      <td>0</td>\n",
       "      <td>1</td>\n",
       "      <td>0</td>\n",
       "      <td>1</td>\n",
       "      <td>0</td>\n",
       "      <td>0</td>\n",
       "      <td>1</td>\n",
       "    </tr>\n",
       "    <tr>\n",
       "      <th>3</th>\n",
       "      <td>0</td>\n",
       "      <td>1</td>\n",
       "      <td>0</td>\n",
       "      <td>1</td>\n",
       "      <td>0</td>\n",
       "      <td>1</td>\n",
       "      <td>0</td>\n",
       "      <td>1</td>\n",
       "      <td>0</td>\n",
       "      <td>1</td>\n",
       "    </tr>\n",
       "    <tr>\n",
       "      <th>4</th>\n",
       "      <td>0</td>\n",
       "      <td>1</td>\n",
       "      <td>0</td>\n",
       "      <td>1</td>\n",
       "      <td>0</td>\n",
       "      <td>1</td>\n",
       "      <td>0</td>\n",
       "      <td>1</td>\n",
       "      <td>1</td>\n",
       "      <td>0</td>\n",
       "    </tr>\n",
       "  </tbody>\n",
       "</table>\n",
       "</div>"
      ],
      "text/plain": [
       "   Gender_Female  Gender_Male  self_employed_No  self_employed_Yes  \\\n",
       "0              0            1                 1                  0   \n",
       "1              1            0                 1                  0   \n",
       "2              1            0                 1                  0   \n",
       "3              0            1                 0                  1   \n",
       "4              0            1                 0                  1   \n",
       "\n",
       "   tech_company_No  tech_company_Yes  remote_work_No  remote_work_Yes  \\\n",
       "0                1                 0               1                0   \n",
       "1                0                 1               1                0   \n",
       "2                1                 0               1                0   \n",
       "3                0                 1               0                1   \n",
       "4                0                 1               0                1   \n",
       "\n",
       "   family_history_No  family_history_Yes  \n",
       "0                  1                   0  \n",
       "1                  0                   1  \n",
       "2                  0                   1  \n",
       "3                  0                   1  \n",
       "4                  1                   0  "
      ]
     },
     "execution_count": 25,
     "metadata": {},
     "output_type": "execute_result"
    }
   ],
   "source": [
    "# convert the Categorical data to Numerical data\n",
    "# One Hot Encoding \n",
    "df_USA_dataset_Categorical = pd.get_dummies(df_USA_dataset_Categorical)\n",
    "# check the data\n",
    "df_USA_dataset_Categorical.head()"
   ]
  },
  {
   "cell_type": "code",
   "execution_count": 26,
   "metadata": {},
   "outputs": [
    {
     "data": {
      "text/html": [
       "<div>\n",
       "<style scoped>\n",
       "    .dataframe tbody tr th:only-of-type {\n",
       "        vertical-align: middle;\n",
       "    }\n",
       "\n",
       "    .dataframe tbody tr th {\n",
       "        vertical-align: top;\n",
       "    }\n",
       "\n",
       "    .dataframe thead th {\n",
       "        text-align: right;\n",
       "    }\n",
       "</style>\n",
       "<table border=\"1\" class=\"dataframe\">\n",
       "  <thead>\n",
       "    <tr style=\"text-align: right;\">\n",
       "      <th></th>\n",
       "      <th>Age</th>\n",
       "      <th>Gender_Female</th>\n",
       "      <th>Gender_Male</th>\n",
       "      <th>self_employed_No</th>\n",
       "      <th>self_employed_Yes</th>\n",
       "      <th>tech_company_No</th>\n",
       "      <th>tech_company_Yes</th>\n",
       "      <th>remote_work_No</th>\n",
       "      <th>remote_work_Yes</th>\n",
       "      <th>family_history_No</th>\n",
       "      <th>family_history_Yes</th>\n",
       "    </tr>\n",
       "  </thead>\n",
       "  <tbody>\n",
       "    <tr>\n",
       "      <th>0</th>\n",
       "      <td>0.540984</td>\n",
       "      <td>0</td>\n",
       "      <td>1</td>\n",
       "      <td>1</td>\n",
       "      <td>0</td>\n",
       "      <td>1</td>\n",
       "      <td>0</td>\n",
       "      <td>1</td>\n",
       "      <td>0</td>\n",
       "      <td>1</td>\n",
       "      <td>0</td>\n",
       "    </tr>\n",
       "    <tr>\n",
       "      <th>1</th>\n",
       "      <td>0.508197</td>\n",
       "      <td>1</td>\n",
       "      <td>0</td>\n",
       "      <td>1</td>\n",
       "      <td>0</td>\n",
       "      <td>0</td>\n",
       "      <td>1</td>\n",
       "      <td>1</td>\n",
       "      <td>0</td>\n",
       "      <td>0</td>\n",
       "      <td>1</td>\n",
       "    </tr>\n",
       "    <tr>\n",
       "      <th>2</th>\n",
       "      <td>0.508197</td>\n",
       "      <td>1</td>\n",
       "      <td>0</td>\n",
       "      <td>1</td>\n",
       "      <td>0</td>\n",
       "      <td>1</td>\n",
       "      <td>0</td>\n",
       "      <td>1</td>\n",
       "      <td>0</td>\n",
       "      <td>0</td>\n",
       "      <td>1</td>\n",
       "    </tr>\n",
       "    <tr>\n",
       "      <th>3</th>\n",
       "      <td>0.573770</td>\n",
       "      <td>0</td>\n",
       "      <td>1</td>\n",
       "      <td>0</td>\n",
       "      <td>1</td>\n",
       "      <td>0</td>\n",
       "      <td>1</td>\n",
       "      <td>0</td>\n",
       "      <td>1</td>\n",
       "      <td>0</td>\n",
       "      <td>1</td>\n",
       "    </tr>\n",
       "    <tr>\n",
       "      <th>4</th>\n",
       "      <td>0.327869</td>\n",
       "      <td>0</td>\n",
       "      <td>1</td>\n",
       "      <td>0</td>\n",
       "      <td>1</td>\n",
       "      <td>0</td>\n",
       "      <td>1</td>\n",
       "      <td>0</td>\n",
       "      <td>1</td>\n",
       "      <td>1</td>\n",
       "      <td>0</td>\n",
       "    </tr>\n",
       "  </tbody>\n",
       "</table>\n",
       "</div>"
      ],
      "text/plain": [
       "        Age  Gender_Female  Gender_Male  self_employed_No  self_employed_Yes  \\\n",
       "0  0.540984              0            1                 1                  0   \n",
       "1  0.508197              1            0                 1                  0   \n",
       "2  0.508197              1            0                 1                  0   \n",
       "3  0.573770              0            1                 0                  1   \n",
       "4  0.327869              0            1                 0                  1   \n",
       "\n",
       "   tech_company_No  tech_company_Yes  remote_work_No  remote_work_Yes  \\\n",
       "0                1                 0               1                0   \n",
       "1                0                 1               1                0   \n",
       "2                1                 0               1                0   \n",
       "3                0                 1               0                1   \n",
       "4                0                 1               0                1   \n",
       "\n",
       "   family_history_No  family_history_Yes  \n",
       "0                  1                   0  \n",
       "1                  0                   1  \n",
       "2                  0                   1  \n",
       "3                  0                   1  \n",
       "4                  1                   0  "
      ]
     },
     "execution_count": 26,
     "metadata": {},
     "output_type": "execute_result"
    }
   ],
   "source": [
    "# Concatenate the Numerical and Categorical Data\n",
    "x_df_USA_dataset = pd.concat([df_USA_dataset_Age, df_USA_dataset_Categorical], axis=1)\n",
    "x_df_USA_dataset.head()"
   ]
  },
  {
   "cell_type": "code",
   "execution_count": 27,
   "metadata": {},
   "outputs": [
    {
     "data": {
      "image/png": "[encoded data removed]",
      "text/plain": [
       "<Figure size 1440x720 with 2 Axes>"
      ]
     },
     "metadata": {
      "needs_background": "light"
     },
     "output_type": "display_data"
    }
   ],
   "source": [
    "# Plot correlation map to file the corelation between variables\n",
    "\n",
    "corr = x_df_USA_dataset.corr()\n",
    "fig = plt.figure()\n",
    "ax = fig.add_subplot(111)\n",
    "cax = ax.matshow(corr,cmap='coolwarm', vmin=-1, vmax=1)\n",
    "fig.colorbar(cax)\n",
    "ticks = np.arange(0,len(x_df_USA_dataset.columns),1)\n",
    "ax.set_xticks(ticks)\n",
    "plt.xticks(rotation=90)\n",
    "ax.set_yticks(ticks)\n",
    "ax.set_xticklabels(x_df_USA_dataset.columns)\n",
    "ax.set_yticklabels(x_df_USA_dataset.columns)\n",
    "plt.show()"
   ]
  },
  {
   "cell_type": "code",
   "execution_count": 28,
   "metadata": {},
   "outputs": [],
   "source": [
    "# import the required package for applying PCA\n",
    "import sklearn.decomposition\n",
    "from sklearn.decomposition import PCA"
   ]
  },
  {
   "cell_type": "code",
   "execution_count": 29,
   "metadata": {},
   "outputs": [
    {
     "data": {
      "text/plain": [
       "PCA(n_components=2)"
      ]
     },
     "execution_count": 29,
     "metadata": {},
     "output_type": "execute_result"
    }
   ],
   "source": [
    "# reducing the number of companents to 2 using PCA\n",
    "pca=PCA(n_components=2)\n",
    "pca.fit(x_df_USA_dataset)"
   ]
  },
  {
   "cell_type": "code",
   "execution_count": 30,
   "metadata": {},
   "outputs": [],
   "source": [
    "# Transform the data after applying PCA\n",
    "x_df_USA_dataset_PCA = pca.transform(x_df_USA_dataset)"
   ]
  },
  {
   "cell_type": "code",
   "execution_count": 31,
   "metadata": {},
   "outputs": [
    {
     "name": "stdout",
     "output_type": "stream",
     "text": [
      "Number of elements in the data frame after applying PCA \n"
     ]
    },
    {
     "data": {
      "text/plain": [
       "(219, 2)"
      ]
     },
     "execution_count": 31,
     "metadata": {},
     "output_type": "execute_result"
    }
   ],
   "source": [
    "print('Number of elements in the data frame after applying PCA ')\n",
    "x_df_USA_dataset_PCA.shape"
   ]
  },
  {
   "cell_type": "code",
   "execution_count": 32,
   "metadata": {},
   "outputs": [
    {
     "data": {
      "text/html": [
       "<div>\n",
       "<style scoped>\n",
       "    .dataframe tbody tr th:only-of-type {\n",
       "        vertical-align: middle;\n",
       "    }\n",
       "\n",
       "    .dataframe tbody tr th {\n",
       "        vertical-align: top;\n",
       "    }\n",
       "\n",
       "    .dataframe thead th {\n",
       "        text-align: right;\n",
       "    }\n",
       "</style>\n",
       "<table border=\"1\" class=\"dataframe\">\n",
       "  <thead>\n",
       "    <tr style=\"text-align: right;\">\n",
       "      <th></th>\n",
       "      <th>PCA_Component_1</th>\n",
       "      <th>PCA_Component_2</th>\n",
       "    </tr>\n",
       "  </thead>\n",
       "  <tbody>\n",
       "    <tr>\n",
       "      <th>0</th>\n",
       "      <td>-0.736660</td>\n",
       "      <td>1.091117</td>\n",
       "    </tr>\n",
       "    <tr>\n",
       "      <th>1</th>\n",
       "      <td>-0.732414</td>\n",
       "      <td>-0.936833</td>\n",
       "    </tr>\n",
       "    <tr>\n",
       "      <th>2</th>\n",
       "      <td>-1.289913</td>\n",
       "      <td>-0.567923</td>\n",
       "    </tr>\n",
       "    <tr>\n",
       "      <th>3</th>\n",
       "      <td>1.428846</td>\n",
       "      <td>-0.544099</td>\n",
       "    </tr>\n",
       "    <tr>\n",
       "      <th>4</th>\n",
       "      <td>1.439015</td>\n",
       "      <td>0.760589</td>\n",
       "    </tr>\n",
       "  </tbody>\n",
       "</table>\n",
       "</div>"
      ],
      "text/plain": [
       "   PCA_Component_1  PCA_Component_2\n",
       "0        -0.736660         1.091117\n",
       "1        -0.732414        -0.936833\n",
       "2        -1.289913        -0.567923\n",
       "3         1.428846        -0.544099\n",
       "4         1.439015         0.760589"
      ]
     },
     "execution_count": 32,
     "metadata": {},
     "output_type": "execute_result"
    }
   ],
   "source": [
    "# Display the input data which is converted to 2 components using PCA\n",
    "x_df_USA_dataset_PCA = pd.DataFrame(x_df_USA_dataset_PCA)\n",
    "x_df_USA_dataset_PCA.columns = ['PCA_Component_1','PCA_Component_2']\n",
    "x_df_USA_dataset_PCA.head()"
   ]
  },
  {
   "cell_type": "markdown",
   "metadata": {},
   "source": [
    "Split the data into test and train"
   ]
  },
  {
   "cell_type": "code",
   "execution_count": 33,
   "metadata": {},
   "outputs": [
    {
     "data": {
      "text/html": [
       "<div>\n",
       "<style scoped>\n",
       "    .dataframe tbody tr th:only-of-type {\n",
       "        vertical-align: middle;\n",
       "    }\n",
       "\n",
       "    .dataframe tbody tr th {\n",
       "        vertical-align: top;\n",
       "    }\n",
       "\n",
       "    .dataframe thead th {\n",
       "        text-align: right;\n",
       "    }\n",
       "</style>\n",
       "<table border=\"1\" class=\"dataframe\">\n",
       "  <thead>\n",
       "    <tr style=\"text-align: right;\">\n",
       "      <th></th>\n",
       "      <th>Age</th>\n",
       "      <th>Gender_Female</th>\n",
       "      <th>Gender_Male</th>\n",
       "      <th>self_employed_No</th>\n",
       "      <th>self_employed_Yes</th>\n",
       "      <th>tech_company_No</th>\n",
       "      <th>tech_company_Yes</th>\n",
       "      <th>remote_work_No</th>\n",
       "      <th>remote_work_Yes</th>\n",
       "      <th>family_history_No</th>\n",
       "      <th>family_history_Yes</th>\n",
       "    </tr>\n",
       "  </thead>\n",
       "  <tbody>\n",
       "    <tr>\n",
       "      <th>0</th>\n",
       "      <td>0.540984</td>\n",
       "      <td>0</td>\n",
       "      <td>1</td>\n",
       "      <td>1</td>\n",
       "      <td>0</td>\n",
       "      <td>1</td>\n",
       "      <td>0</td>\n",
       "      <td>1</td>\n",
       "      <td>0</td>\n",
       "      <td>1</td>\n",
       "      <td>0</td>\n",
       "    </tr>\n",
       "    <tr>\n",
       "      <th>1</th>\n",
       "      <td>0.508197</td>\n",
       "      <td>1</td>\n",
       "      <td>0</td>\n",
       "      <td>1</td>\n",
       "      <td>0</td>\n",
       "      <td>0</td>\n",
       "      <td>1</td>\n",
       "      <td>1</td>\n",
       "      <td>0</td>\n",
       "      <td>0</td>\n",
       "      <td>1</td>\n",
       "    </tr>\n",
       "    <tr>\n",
       "      <th>2</th>\n",
       "      <td>0.508197</td>\n",
       "      <td>1</td>\n",
       "      <td>0</td>\n",
       "      <td>1</td>\n",
       "      <td>0</td>\n",
       "      <td>1</td>\n",
       "      <td>0</td>\n",
       "      <td>1</td>\n",
       "      <td>0</td>\n",
       "      <td>0</td>\n",
       "      <td>1</td>\n",
       "    </tr>\n",
       "    <tr>\n",
       "      <th>3</th>\n",
       "      <td>0.573770</td>\n",
       "      <td>0</td>\n",
       "      <td>1</td>\n",
       "      <td>0</td>\n",
       "      <td>1</td>\n",
       "      <td>0</td>\n",
       "      <td>1</td>\n",
       "      <td>0</td>\n",
       "      <td>1</td>\n",
       "      <td>0</td>\n",
       "      <td>1</td>\n",
       "    </tr>\n",
       "    <tr>\n",
       "      <th>4</th>\n",
       "      <td>0.327869</td>\n",
       "      <td>0</td>\n",
       "      <td>1</td>\n",
       "      <td>0</td>\n",
       "      <td>1</td>\n",
       "      <td>0</td>\n",
       "      <td>1</td>\n",
       "      <td>0</td>\n",
       "      <td>1</td>\n",
       "      <td>1</td>\n",
       "      <td>0</td>\n",
       "    </tr>\n",
       "  </tbody>\n",
       "</table>\n",
       "</div>"
      ],
      "text/plain": [
       "        Age  Gender_Female  Gender_Male  self_employed_No  self_employed_Yes  \\\n",
       "0  0.540984              0            1                 1                  0   \n",
       "1  0.508197              1            0                 1                  0   \n",
       "2  0.508197              1            0                 1                  0   \n",
       "3  0.573770              0            1                 0                  1   \n",
       "4  0.327869              0            1                 0                  1   \n",
       "\n",
       "   tech_company_No  tech_company_Yes  remote_work_No  remote_work_Yes  \\\n",
       "0                1                 0               1                0   \n",
       "1                0                 1               1                0   \n",
       "2                1                 0               1                0   \n",
       "3                0                 1               0                1   \n",
       "4                0                 1               0                1   \n",
       "\n",
       "   family_history_No  family_history_Yes  \n",
       "0                  1                   0  \n",
       "1                  0                   1  \n",
       "2                  0                   1  \n",
       "3                  0                   1  \n",
       "4                  1                   0  "
      ]
     },
     "execution_count": 33,
     "metadata": {},
     "output_type": "execute_result"
    }
   ],
   "source": [
    "x_df_USA_dataset.head()"
   ]
  },
  {
   "cell_type": "code",
   "execution_count": 34,
   "metadata": {},
   "outputs": [
    {
     "name": "stderr",
     "output_type": "stream",
     "text": [
      "C:\\ProgramData\\Anaconda3\\lib\\site-packages\\sklearn\\utils\\validation.py:72: DataConversionWarning: A column-vector y was passed when a 1d array was expected. Please change the shape of y to (n_samples, ), for example using ravel().\n",
      "  return f(**kwargs)\n"
     ]
    }
   ],
   "source": [
    "from sklearn.preprocessing import LabelEncoder\n",
    "lbl=LabelEncoder()\n",
    "#y_df_USA_dataset= pd.DataFrame(lbl.fit_transform(df_USA_dataset_Label))\n",
    "y_df_USA_dataset= lbl.fit_transform(df_USA_dataset_Label)\n",
    "\n",
    "#y_df_USA_dataset.head()"
   ]
  },
  {
   "cell_type": "code",
   "execution_count": 35,
   "metadata": {},
   "outputs": [
    {
     "name": "stdout",
     "output_type": "stream",
     "text": [
      "No. of samples in training set:  153\n",
      "No. of samples in validation set: 66\n"
     ]
    }
   ],
   "source": [
    "# separate data into training and validation and check the details of the datasets\n",
    "# import packages\n",
    "from sklearn.model_selection import train_test_split\n",
    "\n",
    "# split the data\n",
    "X_train, X_test, y_train, y_test = train_test_split(x_df_USA_dataset, y_df_USA_dataset, test_size =0.3, random_state=11)\n",
    "\n",
    "# number of samples in each set\n",
    "print(\"No. of samples in training set: \", X_train.shape[0])\n",
    "print(\"No. of samples in validation set:\", X_test.shape[0])"
   ]
  },
  {
   "cell_type": "markdown",
   "metadata": {},
   "source": [
    "# Logistic Regression"
   ]
  },
  {
   "cell_type": "code",
   "execution_count": 36,
   "metadata": {},
   "outputs": [],
   "source": [
    "from sklearn.linear_model import LogisticRegression\n",
    "from sklearn.metrics import confusion_matrix, accuracy_score, classification_report\n",
    "\n",
    "log_regression = LogisticRegression()\n",
    "log_regression.fit(X_train,y_train)\n",
    "target_names = ['obs_consequence_YES', 'obs_consequence_NO']"
   ]
  },
  {
   "cell_type": "code",
   "execution_count": 37,
   "metadata": {},
   "outputs": [
    {
     "name": "stdout",
     "output_type": "stream",
     "text": [
      "Testing Set Confusion Matrix 'LogisticRegression': \n",
      " [[44  0]\n",
      " [22  0]]\n",
      "\n",
      "Testing Set Classification_Report 'LogisticRegression':\n",
      "                     precision    recall  f1-score   support\n",
      "\n",
      "obs_consequence_YES       0.67      1.00      0.80        44\n",
      " obs_consequence_NO       0.00      0.00      0.00        22\n",
      "\n",
      "           accuracy                           0.67        66\n",
      "          macro avg       0.33      0.50      0.40        66\n",
      "       weighted avg       0.44      0.67      0.53        66\n",
      "\n",
      "Test Set Accuracy LR:  0.6666666666666666\n",
      "Test Set Sensitivity LR:  0.0\n",
      "Test Set Specificity LR:  1.0\n"
     ]
    },
    {
     "name": "stderr",
     "output_type": "stream",
     "text": [
      "C:\\ProgramData\\Anaconda3\\lib\\site-packages\\sklearn\\metrics\\_classification.py:1221: UndefinedMetricWarning: Precision and F-score are ill-defined and being set to 0.0 in labels with no predicted samples. Use `zero_division` parameter to control this behavior.\n",
      "  _warn_prf(average, modifier, msg_start, len(result))\n"
     ]
    }
   ],
   "source": [
    "#Testing dataset\n",
    "y_pred_log = log_regression.predict(X_test)\n",
    "cm_tt_log = confusion_matrix(y_test,y_pred_log)\n",
    "TP = cm_tt_log[1, 1]\n",
    "TN = cm_tt_log[0, 0]\n",
    "FP = cm_tt_log[0, 1]\n",
    "FN = cm_tt_log[1, 0]\n",
    "\n",
    "print(\"Testing Set Confusion Matrix 'LogisticRegression': \\n\",cm_tt_log)\n",
    "print(\"\\nTesting Set Classification_Report 'LogisticRegression':\")\n",
    "print(classification_report(y_test,y_pred_log, target_names = target_names))\n",
    "\n",
    "sensitivity_log_train = TP/(FN+TP)  # TP/(FN+TP)\n",
    "specificity_log_train = TN/(TN+FP)  # TN/(TN+FP)\n",
    "print(\"Test Set Accuracy LR: \",accuracy_score(y_test,y_pred_log))\n",
    "print(\"Test Set Sensitivity LR: \",sensitivity_log_train)\n",
    "print(\"Test Set Specificity LR: \",specificity_log_train)"
   ]
  },
  {
   "cell_type": "code",
   "execution_count": 38,
   "metadata": {},
   "outputs": [
    {
     "name": "stdout",
     "output_type": "stream",
     "text": [
      "Training Set Confusion Matrix 'LogisticRegression': \n",
      " [[119   0]\n",
      " [ 34   0]]\n",
      "\n",
      "Training Set Classification_Report 'LogisticRegression':\n",
      "                     precision    recall  f1-score   support\n",
      "\n",
      "obs_consequence_YES       0.78      1.00      0.88       119\n",
      " obs_consequence_NO       0.00      0.00      0.00        34\n",
      "\n",
      "           accuracy                           0.78       153\n",
      "          macro avg       0.39      0.50      0.44       153\n",
      "       weighted avg       0.60      0.78      0.68       153\n",
      "\n",
      "Training Set Accuracy LR:  0.7777777777777778\n",
      "Training Set Sensitivity LR:  0.0\n",
      "Training Set Specificity LR:  1.0\n"
     ]
    },
    {
     "name": "stderr",
     "output_type": "stream",
     "text": [
      "C:\\ProgramData\\Anaconda3\\lib\\site-packages\\sklearn\\metrics\\_classification.py:1221: UndefinedMetricWarning: Precision and F-score are ill-defined and being set to 0.0 in labels with no predicted samples. Use `zero_division` parameter to control this behavior.\n",
      "  _warn_prf(average, modifier, msg_start, len(result))\n"
     ]
    }
   ],
   "source": [
    "#Training Set\n",
    "y_train_log = log_regression.predict(X_train)\n",
    "cm_tr_log = confusion_matrix(y_train,y_train_log)\n",
    "TP = cm_tr_log[1, 1]\n",
    "TN = cm_tr_log[0, 0]\n",
    "FP = cm_tr_log[0, 1]\n",
    "FN = cm_tr_log[1, 0]\n",
    "\n",
    "print(\"Training Set Confusion Matrix 'LogisticRegression': \\n\",cm_tr_log)\n",
    "print(\"\\nTraining Set Classification_Report 'LogisticRegression':\")\n",
    "print(classification_report(y_train,y_train_log, target_names = target_names))\n",
    "\n",
    "sensitivity_log_train = TP/(FN+TP)  # TP/(FN+TP)\n",
    "specificity_log_train = TN/(TN+FP)  # TN/(TN+FP)\n",
    "print(\"Training Set Accuracy LR: \",accuracy_score(y_train,y_train_log))\n",
    "print(\"Training Set Sensitivity LR: \",sensitivity_log_train)\n",
    "print(\"Training Set Specificity LR: \",specificity_log_train)"
   ]
  },
  {
   "cell_type": "markdown",
   "metadata": {},
   "source": [
    "# AdaBoost Classifier"
   ]
  },
  {
   "cell_type": "code",
   "execution_count": 39,
   "metadata": {},
   "outputs": [
    {
     "data": {
      "text/plain": [
       "AdaBoostClassifier(n_estimators=1000)"
      ]
     },
     "execution_count": 39,
     "metadata": {},
     "output_type": "execute_result"
    }
   ],
   "source": [
    "#AdaBoosting\n",
    "from sklearn.ensemble import AdaBoostClassifier\n",
    "from sklearn.metrics import confusion_matrix, accuracy_score, classification_report\n",
    "ada_class = AdaBoostClassifier(n_estimators=1000)\n",
    "ada_class.fit(X_train,y_train)"
   ]
  },
  {
   "cell_type": "code",
   "execution_count": 40,
   "metadata": {},
   "outputs": [
    {
     "name": "stdout",
     "output_type": "stream",
     "text": [
      "Testing Set Confusion Matrix 'AdaBoostClassifier': \n",
      " [[42  2]\n",
      " [19  3]]\n",
      "\n",
      "Testing Set Classification_Report 'AdaBoostClassifier':\n",
      "                     precision    recall  f1-score   support\n",
      "\n",
      "obs_consequence_YES       0.69      0.95      0.80        44\n",
      " obs_consequence_NO       0.60      0.14      0.22        22\n",
      "\n",
      "           accuracy                           0.68        66\n",
      "          macro avg       0.64      0.55      0.51        66\n",
      "       weighted avg       0.66      0.68      0.61        66\n",
      "\n",
      "Test Set Accuracy AB:  0.6818181818181818\n",
      "Test Set Sensitivity AB:  0.13636363636363635\n",
      "Test Set Specificity AB:  0.9545454545454546\n"
     ]
    }
   ],
   "source": [
    "# Testing Dataset\n",
    "y_pred_log = ada_class.predict(X_test)\n",
    "cm_tt_log = confusion_matrix(y_test,y_pred_log)\n",
    "TP = cm_tt_log[1, 1]\n",
    "TN = cm_tt_log[0, 0]\n",
    "FP = cm_tt_log[0, 1]\n",
    "FN = cm_tt_log[1, 0]\n",
    "\n",
    "print(\"Testing Set Confusion Matrix 'AdaBoostClassifier': \\n\",cm_tt_log)\n",
    "print(\"\\nTesting Set Classification_Report 'AdaBoostClassifier':\")\n",
    "print(classification_report(y_test,y_pred_log, target_names = target_names))\n",
    "\n",
    "sensitivity_log_train = TP/(FN+TP)  # TP/(FN+TP)\n",
    "specificity_log_train = TN/(TN+FP)  # TN/(TN+FP)\n",
    "print(\"Test Set Accuracy AB: \",accuracy_score(y_test,y_pred_log))\n",
    "print(\"Test Set Sensitivity AB: \",sensitivity_log_train)\n",
    "print(\"Test Set Specificity AB: \",specificity_log_train)\n"
   ]
  },
  {
   "cell_type": "code",
   "execution_count": 41,
   "metadata": {},
   "outputs": [
    {
     "name": "stdout",
     "output_type": "stream",
     "text": [
      "Training Set Confusion Matrix 'AdaBoostClassifier': \n",
      " [[111   8]\n",
      " [ 18  16]]\n",
      "\n",
      "Training Set Classification_Report 'AdaBoostClassifier':\n",
      "                     precision    recall  f1-score   support\n",
      "\n",
      "obs_consequence_YES       0.86      0.93      0.90       119\n",
      " obs_consequence_NO       0.67      0.47      0.55        34\n",
      "\n",
      "           accuracy                           0.83       153\n",
      "          macro avg       0.76      0.70      0.72       153\n",
      "       weighted avg       0.82      0.83      0.82       153\n",
      "\n",
      "Training Set Accuracy AB:  0.8300653594771242\n",
      "Training Set Sensitivity AB:  0.47058823529411764\n",
      "Training Set Specificity AB:  0.9327731092436975\n"
     ]
    }
   ],
   "source": [
    "#Training Set\n",
    "y_train_log = ada_class.predict(X_train)\n",
    "cm_tr_log = confusion_matrix(y_train,y_train_log)\n",
    "\n",
    "TP = cm_tr_log[1, 1]\n",
    "TN = cm_tr_log[0, 0]\n",
    "FP = cm_tr_log[0, 1]\n",
    "FN = cm_tr_log[1, 0]\n",
    "\n",
    "print(\"Training Set Confusion Matrix 'AdaBoostClassifier': \\n\",cm_tr_log)\n",
    "print(\"\\nTraining Set Classification_Report 'AdaBoostClassifier':\")\n",
    "print(classification_report(y_train,y_train_log, target_names = target_names))\n",
    "\n",
    "sensitivity_log_train = TP/(FN+TP)  # TP/(FN+TP)\n",
    "specificity_log_train = TN/(TN+FP)  # TN/(TN+FP)\n",
    "print(\"Training Set Accuracy AB: \",accuracy_score(y_train,y_train_log))\n",
    "print(\"Training Set Sensitivity AB: \",sensitivity_log_train)\n",
    "print(\"Training Set Specificity AB: \",specificity_log_train)"
   ]
  },
  {
   "cell_type": "code",
   "execution_count": 42,
   "metadata": {},
   "outputs": [
    {
     "data": {
      "image/png": "[encoded data removed]",
      "text/plain": [
       "<Figure size 576x396 with 1 Axes>"
      ]
     },
     "metadata": {},
     "output_type": "display_data"
    },
    {
     "data": {
      "text/plain": [
       "<AxesSubplot:title={'center':'AdaBoostClassifier Confusion Matrix'}, xlabel='Predicted Class', ylabel='True Class'>"
      ]
     },
     "execution_count": 42,
     "metadata": {},
     "output_type": "execute_result"
    }
   ],
   "source": [
    "from yellowbrick.classifier import ConfusionMatrix\n",
    "from yellowbrick.classifier import ClassificationReport\n",
    "from yellowbrick.classifier import ROCAUC\n",
    "\n",
    "#The ConfusionMatrix visualizer taxes a model\n",
    "cm = ConfusionMatrix(ada_class, target_names=target_names, percent=False)\n",
    "cm.fit(X_train, y_train)\n",
    "cm.score(X_test, y_test)\n",
    "\n",
    "# change fontsize of the labels in the figure\n",
    "for label in cm.ax.texts:\n",
    "    label.set_size(20)\n",
    "\n",
    "cm.poof()\n"
   ]
  },
  {
   "cell_type": "code",
   "execution_count": 43,
   "metadata": {},
   "outputs": [
    {
     "data": {
      "image/png": "[encoded data removed]",
      "text/plain": [
       "<Figure size 1080x504 with 2 Axes>"
      ]
     },
     "metadata": {},
     "output_type": "display_data"
    }
   ],
   "source": [
    "# Precision, Recall, and F1 Score\n",
    "# set the size of the figure and the font size \n",
    "#%matplotlib inline\n",
    "plt.rcParams['figure.figsize'] = (15, 7)\n",
    "plt.rcParams['font.size'] = 20\n",
    "\n",
    "# Instantiate the visualizer\n",
    "visualizer = ClassificationReport(ada_class, target_names=target_names)\n",
    "\n",
    "visualizer.fit(X_train, y_train)  # Fit the training data to the visualizer\n",
    "visualizer.score(X_test, y_test)  # Evaluate the model on the test data\n",
    "g = visualizer.poof()"
   ]
  },
  {
   "cell_type": "code",
   "execution_count": 44,
   "metadata": {},
   "outputs": [
    {
     "data": {
      "image/png": "[encoded data removed]",
      "text/plain": [
       "<Figure size 1080x504 with 1 Axes>"
      ]
     },
     "metadata": {},
     "output_type": "display_data"
    }
   ],
   "source": [
    "# ROC and AUC\n",
    "#Instantiate the visualizer\n",
    "visualizer = ROCAUC(ada_class)\n",
    "\n",
    "visualizer.fit(X_train, y_train)  # Fit the training data to the visualizer\n",
    "visualizer.score(X_test, y_test)  # Evaluate the model on the test data\n",
    "g = visualizer.poof()"
   ]
  }
 ],
 "metadata": {
  "kernelspec": {
   "display_name": "Python 3",
   "language": "python",
   "name": "python3"
  },
  "language_info": {
   "codemirror_mode": {
    "name": "ipython",
    "version": 3
   },
   "file_extension": ".py",
   "mimetype": "text/x-python",
   "name": "python",
   "nbconvert_exporter": "python",
   "pygments_lexer": "ipython3",
   "version": "3.8.5"
  }
 },
 "nbformat": 4,
 "nbformat_minor": 4
}
